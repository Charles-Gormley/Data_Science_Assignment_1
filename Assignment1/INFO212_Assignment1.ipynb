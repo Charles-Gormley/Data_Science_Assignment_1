{
 "cells": [
  {
   "cell_type": "markdown",
   "metadata": {
    "id": "85Z_qr_HpWBn"
   },
   "source": [
    "<h1 style=\"text-align:center\"> Drexel University </h1>\n",
    "<h2 style = \"text-align:center\"> College of Computing and Informatics</h2>\n",
    "<h2 style = \"text-align:center\">INFO 212: Data Science Programming I</h2>\n",
    "<h3 style = \"text-align:center\">Assignment 1</h3>\n",
    "<div style=\"text-align:center; border-style:solid; padding: 10px\">\n",
    "<div style=\"font-weight:bold\">Due Date: Sunday, April 10, 2022</div>\n",
    "This assignment counts for 10% of the final grade\n",
    "</div>\n",
    "\n",
    "<h3 style=\"color:red; font-weight:bold; text-decoration: underline\">DON'T FORGET TO PUT YOUR NAME BELOW</h3>\n",
    "\n",
    "### STUDENT NAME: Charles E. Gormley \n",
    "\n",
    "\n",
    "### A. Assignment Overview\n",
    "This assignment provides the opportunity for you to practice with Python basics. \n",
    "\n",
    "### B. What to Hand In\n",
    "\t\n",
    "Sumbit a completed this Jupyter notebook. \n",
    "\n",
    "### C. How to Hand In\n",
    "\n",
    "Submit your Jupyter notebook file through the course website in the Blackboard Learn system.\n",
    "\n",
    "### D. When to Hand In\n",
    "\n",
    "1. Submit your assignment no later than 11:59pm in the due date.\n",
    "2. There will be a 10% (absolute value) deduction for each day of lateness, to a maximum of 3 days; assignments will not be accepted beyond that point. Missing work will earn a zero grade.\n",
    "\n",
    "### E. Written Presentation Requirements (if applicable)\n",
    "Images must be clear and legible. Assignments will be judged on the basis of visual appearance, grammatical correctness, and quality of writing, as well as their contents. Please make sure that the text of your assignments is well-structured, using paragraphs, full sentences, and other features of well-written presentation. Text font size should be either 11 or 12 points.\n",
    "\n",
    "### F. Marking Schemes:\n",
    "Marking assignments will be based on several aspects: presentation, correctness and coding styles. \n",
    " \n",
    "The following is a set of guidelines for the presentation and coding style in this course:\n",
    "- **1. Write good comments. Marks will be dedecuted if there are no comments.\n",
    "- 2. Your comments must mention the purpose of each parameter, and must be grammatically correct. \n",
    "- 3. When breaking up a long line, break it before an operator, not after.\n",
    "- 4. Present your code and answers in well-structured format ** \n",
    "\n",
    "\n",
    "### G. Answer the following questions."
   ]
  },
  {
   "cell_type": "markdown",
   "metadata": {
    "id": "z5Fc-AXLpWBu"
   },
   "source": [
    "## Question 1 [10 marks]:\n",
    "Write a Python function `convert_to_unique_chars(s)` that converts a string to a list of unique characters. The order of the unique characters should be the original order of their first appearances in the given string. \n",
    "\n",
    "For example, for the string `s=\"hello world\"`, the function should create the list `['h', 'e', 'l', 'o', ' ', 'w', 'r', 'd']`\n",
    "\n",
    "Test your function on different input strings, including empty string, all blanks, etc."
   ]
  },
  {
   "cell_type": "code",
   "execution_count": 1,
   "metadata": {
    "collapsed": false,
    "pycharm": {
     "name": "#%%\n"
    }
   },
   "outputs": [],
   "source": [
    "# internal modules\n",
    "import os"
   ]
  },
  {
   "cell_type": "markdown",
   "metadata": {
    "collapsed": false
   },
   "source": [
    "#### Answer 1"
   ]
  },
  {
   "cell_type": "code",
   "execution_count": 2,
   "metadata": {
    "id": "ab_zUQTQpWBv"
   },
   "outputs": [],
   "source": [
    "# The functions takes the input of a string and returns all unique characters within the inputted string.\n",
    "def convert_to_unique_chars(s):\n",
    "    \"\"\"\n",
    "    Input:\n",
    "        s: a string\n",
    "    Output:\n",
    "        chars: a list of unique characters in the input string\n",
    "    \"\"\"\n",
    "    unique_char_list = [] # This list holds the expected output#\n",
    "    if (type(s)) == type('string'): # Test if input is a string.\n",
    "\n",
    "        # Iterating through each character of a list\n",
    "        for char in s:\n",
    "\n",
    "            # Testing to see if the character has been seen in the output list. If it has we do not add it to the output list.\n",
    "            if char not in unique_char_list:\n",
    "                unique_char_list.append(char) # If the character is unique we add it to the unique list. \n",
    "\n",
    "        return unique_char_list # return the list of unique characters.\n",
    "\n",
    "    else:\n",
    "        print(\"Input must be of type string\") # If the input is not a string, print an error message.\n",
    "        return None # If the input is not a string, return None.\n",
    "\n"
   ]
  },
  {
   "cell_type": "markdown",
   "metadata": {
    "collapsed": false,
    "pycharm": {
     "name": "#%% md\n"
    }
   },
   "source": [
    "#### Testing different input for convert_to_unique_chars function."
   ]
  },
  {
   "cell_type": "code",
   "execution_count": 3,
   "metadata": {
    "collapsed": false,
    "pycharm": {
     "name": "#%%\n"
    }
   },
   "outputs": [
    {
     "data": {
      "text/plain": [
       "['h', 'e', 'l', 'o', ' ', 'w', 'r', 'd']"
      ]
     },
     "execution_count": 3,
     "metadata": {},
     "output_type": "execute_result"
    }
   ],
   "source": [
    "# Basic text input.\n",
    "convert_to_unique_chars(\"hello world\")"
   ]
  },
  {
   "cell_type": "code",
   "execution_count": 4,
   "metadata": {
    "collapsed": false,
    "pycharm": {
     "name": "#%%\n"
    }
   },
   "outputs": [
    {
     "data": {
      "text/plain": [
       "['H', 'a', 'r', 's', 'h']"
      ]
     },
     "execution_count": 4,
     "metadata": {},
     "output_type": "execute_result"
    }
   ],
   "source": [
    "# Upper Case & Lower case input.\n",
    "convert_to_unique_chars(\"Harsh\")"
   ]
  },
  {
   "cell_type": "code",
   "execution_count": 5,
   "metadata": {
    "collapsed": false,
    "pycharm": {
     "name": "#%%\n"
    }
   },
   "outputs": [
    {
     "data": {
      "text/plain": [
       "[' ']"
      ]
     },
     "execution_count": 5,
     "metadata": {},
     "output_type": "execute_result"
    }
   ],
   "source": [
    "# Excessive Spacing input.\n",
    "convert_to_unique_chars(\"    \")"
   ]
  },
  {
   "cell_type": "code",
   "execution_count": 6,
   "metadata": {
    "collapsed": false,
    "pycharm": {
     "name": "#%%\n"
    }
   },
   "outputs": [
    {
     "data": {
      "text/plain": [
       "[]"
      ]
     },
     "execution_count": 6,
     "metadata": {},
     "output_type": "execute_result"
    }
   ],
   "source": [
    "# Testing empty string\n",
    "convert_to_unique_chars(\"\")"
   ]
  },
  {
   "cell_type": "code",
   "execution_count": 7,
   "metadata": {
    "collapsed": false,
    "pycharm": {
     "name": "#%%\n"
    }
   },
   "outputs": [
    {
     "name": "stdout",
     "output_type": "stream",
     "text": [
      "Input must be of type string\n"
     ]
    },
    {
     "data": {
      "text/plain": [
       "[]"
      ]
     },
     "execution_count": 7,
     "metadata": {},
     "output_type": "execute_result"
    }
   ],
   "source": [
    "# Testing incorrect type\n",
    "convert_to_unique_chars(4)"
   ]
  },
  {
   "cell_type": "code",
   "execution_count": 136,
   "metadata": {},
   "outputs": [
    {
     "data": {
      "text/plain": [
       "['h', 'e', 'l', 'o']"
      ]
     },
     "execution_count": 136,
     "metadata": {},
     "output_type": "execute_result"
    }
   ],
   "source": [
    "# Testing string object\n",
    "convert_to_unique_chars(\"hello\")"
   ]
  },
  {
   "cell_type": "code",
   "execution_count": 139,
   "metadata": {},
   "outputs": [
    {
     "data": {
      "text/plain": [
       "['1', '2', '5', '4']"
      ]
     },
     "execution_count": 139,
     "metadata": {},
     "output_type": "execute_result"
    }
   ],
   "source": [
    "# Testing string of numbers\n",
    "convert_to_unique_chars(\"12545\")"
   ]
  },
  {
   "cell_type": "code",
   "execution_count": null,
   "metadata": {},
   "outputs": [],
   "source": [
    "# Testing numeric object \n",
    "convert_to_unique_chars([4, 5])"
   ]
  },
  {
   "cell_type": "markdown",
   "metadata": {
    "collapsed": false,
    "pycharm": {
     "name": "#%% md\n"
    }
   },
   "source": []
  },
  {
   "cell_type": "markdown",
   "metadata": {
    "id": "h9kGrjUCpWBv"
   },
   "source": [
    "## Question 2 [10 marks]:\n",
    "Write a Python function test_ten_percent(a, b) that takes as input two nonegative numbers and prints True if the variable $a$ is within $10\\%$ of the variable $b$ and False otherwise. Your function must ensure both input numbers are nonegative. Print out an error message for unacceptable inputs and other arithmetic errors."
   ]
  },
  {
   "cell_type": "markdown",
   "metadata": {
    "collapsed": false
   },
   "source": [
    "#### Answer 2\n"
   ]
  },
  {
   "cell_type": "code",
   "execution_count": 11,
   "metadata": {
    "collapsed": true,
    "id": "1U-N4GafpWBw",
    "jupyter": {
     "outputs_hidden": true
    }
   },
   "outputs": [],
   "source": [
    "# The functions takes the input of two non-negative numbers and returns True if the first parameter is within 10% of the second parameter.\n",
    "def test_ten_percent(a, b):\n",
    "    \"\"\"\n",
    "    Input:\n",
    "        a: a non-negative number\n",
    "        b: a non-negative number\n",
    "    Output:\n",
    "        True: if a is within 10% of b\n",
    "        False: otherwise\n",
    "    \"\"\"\n",
    "\n",
    "\n",
    "\n",
    "    # Tests to ensure that both inputs are numeric.\n",
    "    try:\n",
    "        a = float(a)\n",
    "        b = float(b)\n",
    "    except:\n",
    "        print(\"Error: Both parameters must be numeric\")\n",
    "        return None\n",
    "\n",
    "    # Tests to ensure that both inputs are non-negative.\n",
    "    if a < 0 or b < 0:\n",
    "        print(\"Error: Both numbers must be non-negative\")\n",
    "        return None\n",
    "\n",
    "    # Computes what 10% of the second parameter (b) is.\n",
    "    b_deviation = b/10\n",
    "\n",
    "    # Test to see input b is within %10 of input a.\n",
    "    if a <= b + b_deviation and a >= b - b_deviation:\n",
    "        return True\n",
    "    else:\n",
    "        return False"
   ]
  },
  {
   "cell_type": "markdown",
   "metadata": {
    "collapsed": false,
    "pycharm": {
     "name": "#%% md\n"
    }
   },
   "source": [
    "### Testing different input for test_ten_percent() function."
   ]
  },
  {
   "cell_type": "code",
   "execution_count": 12,
   "metadata": {
    "collapsed": false,
    "pycharm": {
     "name": "#%%\n"
    }
   },
   "outputs": [
    {
     "name": "stdout",
     "output_type": "stream",
     "text": [
      "Error: Both parameters must be numeric\n"
     ]
    }
   ],
   "source": [
    "# Test non numeric input.\n",
    "test_ten_percent(\"Hi\", 5)"
   ]
  },
  {
   "cell_type": "code",
   "execution_count": 13,
   "metadata": {
    "collapsed": false,
    "pycharm": {
     "name": "#%%\n"
    }
   },
   "outputs": [
    {
     "name": "stdout",
     "output_type": "stream",
     "text": [
      "Error: Both numbers must be non-negative\n"
     ]
    }
   ],
   "source": [
    "# Test negative input.\n",
    "test_ten_percent(-7, 6)"
   ]
  },
  {
   "cell_type": "code",
   "execution_count": 14,
   "metadata": {
    "collapsed": false,
    "pycharm": {
     "name": "#%%\n"
    }
   },
   "outputs": [
    {
     "data": {
      "text/plain": [
       "True"
      ]
     },
     "execution_count": 14,
     "metadata": {},
     "output_type": "execute_result"
    }
   ],
   "source": [
    "# Testing True Input\n",
    "test_ten_percent(9, 10)"
   ]
  },
  {
   "cell_type": "code",
   "execution_count": 15,
   "metadata": {
    "collapsed": false,
    "pycharm": {
     "name": "#%%\n"
    }
   },
   "outputs": [
    {
     "data": {
      "text/plain": [
       "False"
      ]
     },
     "execution_count": 15,
     "metadata": {},
     "output_type": "execute_result"
    }
   ],
   "source": [
    "# Testing False Input\n",
    "test_ten_percent(10, 9)"
   ]
  },
  {
   "cell_type": "code",
   "execution_count": 127,
   "metadata": {},
   "outputs": [
    {
     "name": "stdout",
     "output_type": "stream",
     "text": [
      "Error: Both parameters must be numeric\n"
     ]
    }
   ],
   "source": [
    "# Testing object input for a.\n",
    "test_ten_percent({\"a\": 1}, 5)"
   ]
  },
  {
   "cell_type": "code",
   "execution_count": 128,
   "metadata": {},
   "outputs": [
    {
     "name": "stdout",
     "output_type": "stream",
     "text": [
      "Error: Both parameters must be numeric\n"
     ]
    }
   ],
   "source": [
    "# Testing object input for b. \n",
    "test_ten_percent(5, {\"b\": 1})"
   ]
  },
  {
   "cell_type": "code",
   "execution_count": 130,
   "metadata": {},
   "outputs": [
    {
     "name": "stdout",
     "output_type": "stream",
     "text": [
      "Error: Both parameters must be numeric\n"
     ]
    }
   ],
   "source": [
    "# Testing string input for both. \n",
    "test_ten_percent(\"Hi\", \"Hi\")"
   ]
  },
  {
   "cell_type": "code",
   "execution_count": 131,
   "metadata": {},
   "outputs": [
    {
     "data": {
      "text/plain": [
       "True"
      ]
     },
     "execution_count": 131,
     "metadata": {},
     "output_type": "execute_result"
    }
   ],
   "source": [
    "# Testing 0 input for both.\n",
    "test_ten_percent(0, 0)"
   ]
  },
  {
   "cell_type": "markdown",
   "metadata": {
    "collapsed": false
   },
   "source": [
    "#### Question 3 [20 marks]:\n",
    "Write a Python function `build_map(list1, list2)` which takes two lists as input and creates a map which uses the first list as the keys and second list as the values. Iterate the two lists sequentially and map the corresponding keys to values. Think about all kinds of input, including list1 with duplicate values, longer list1, empty list1, etc:\n",
    "- if list1 is empty, return a empty map.\n",
    "- if list1 is longer than list2, map extra keys in list1 to None.\n",
    "- if list1 has duplicate keys, map the first occurence of the duplicated key to the corresponding value in list2, ignoring the rest of duplicated keys and corresponding values.\n",
    "- if list1 contains mutable values, ignore them and use the next available immutable one and its corresponding value.\n",
    "- if list2 has more values, ignore them.\n",
    "\n",
    "For example, given two lists:\n",
    "\n",
    "`ls1 = [2,5,8,5]`\n",
    "\n",
    "`ls2 = ['we', 'me', 'he', 'they']`\n",
    "\n",
    "The function returns a map:\n",
    "\n",
    "`m = {2:'we', 5:me, 8:'he'}`"
   ]
  },
  {
   "cell_type": "markdown",
   "metadata": {
    "collapsed": false
   },
   "source": [
    "#### Answer 3"
   ]
  },
  {
   "cell_type": "code",
   "execution_count": 118,
   "metadata": {
    "collapsed": true,
    "id": "zyAmyRVqpWBw",
    "jupyter": {
     "outputs_hidden": true
    }
   },
   "outputs": [],
   "source": [
    "# The functions takes the input of two lists. It then returns a dictionary with the first list being used as the keys and the second list being used as values.\n",
    "def build_map(l1, l2):\n",
    "    \"\"\"\n",
    "    Build a map from the two given lists.\n",
    "    \n",
    "    Input:\n",
    "        l1: a list of keys\n",
    "        l2: a list of values\n",
    "    Output:\n",
    "        m: a map from the keys to values\n",
    "    \"\"\"\n",
    "    # Initializing an empty dictionary.\n",
    "    map = {}\n",
    "\n",
    "    # Testing to ensure that both inputs are lists.\n",
    "    if type(l1) == type(l2) == type([]):\n",
    "        pass\n",
    "    else:\n",
    "        print(\"Error: Both inputs must be lists\") # Print the error message, if the inputs are not both lists. \n",
    "        return None # return none if the inputs are not both lists.\n",
    "\n",
    "    # Returns an empty map if list1 is empty.\n",
    "    if len(l1) == 0:\n",
    "        return map # return the empty map.\n",
    "\n",
    "    for x in range(len(l1)): # Iterate through the list of keys.\n",
    "        if l1[x] in list(map.keys()): # If the key is already in the map, skip over the key. \n",
    "            continue\n",
    "\n",
    "        # Mapping extra keys in list 1 to value None. If same index of list 2 DNE.\n",
    "        if (x + 1) > len(l2):\n",
    "            value = None # If the value is not in the list, set it to None.\n",
    "        else:\n",
    "            value = l2[x] # If the value is in the list, set it to the value.\n",
    "            \n",
    "\n",
    "        # Mapping key from list 1 to value of list 2.\n",
    "        try:\n",
    "            map[l1[x]] = value # Mapping the key to the value.\n",
    "        except TypeError: # If the value is not correct type, print an error message.\n",
    "            continue # Skip over the value.\n",
    "\n",
    "    return map # return the map of key value pairs."
   ]
  },
  {
   "cell_type": "code",
   "execution_count": 21,
   "metadata": {
    "collapsed": false,
    "pycharm": {
     "name": "#%%\n"
    }
   },
   "outputs": [
    {
     "data": {
      "text/plain": [
       "{'Cuba': True, 'United States': False, 'Singapore': True}"
      ]
     },
     "execution_count": 21,
     "metadata": {},
     "output_type": "execute_result"
    }
   ],
   "source": [
    "# Testing key that is not valid (index 1). Uses next available key value pair. \n",
    "build_map(['Cuba', [83, 43], 'United States', 'Singapore'], [True, True, False, True])"
   ]
  },
  {
   "cell_type": "code",
   "execution_count": 24,
   "metadata": {},
   "outputs": [
    {
     "data": {
      "text/plain": [
       "{2: 'we', 5: 'me', 8: 'he'}"
      ]
     },
     "execution_count": 24,
     "metadata": {},
     "output_type": "execute_result"
    }
   ],
   "source": [
    "# Testing input with duplicate keys.\n",
    "build_map([2,5,8,5], ['we', 'me', 'he', 'they'])"
   ]
  },
  {
   "cell_type": "code",
   "execution_count": 119,
   "metadata": {},
   "outputs": [
    {
     "data": {
      "text/plain": [
       "{}"
      ]
     },
     "execution_count": 119,
     "metadata": {},
     "output_type": "execute_result"
    }
   ],
   "source": [
    "# Testing when input is empty.\n",
    "build_map([], [])"
   ]
  },
  {
   "cell_type": "code",
   "execution_count": 122,
   "metadata": {},
   "outputs": [
    {
     "name": "stdout",
     "output_type": "stream",
     "text": [
      "Error: Both inputs must be lists\n"
     ]
    }
   ],
   "source": [
    "# Testing when input is not a list.\n",
    "build_map(5, [])"
   ]
  },
  {
   "cell_type": "code",
   "execution_count": 124,
   "metadata": {},
   "outputs": [
    {
     "data": {
      "text/plain": [
       "{'Cuba': True, 'United States': True, 'Singapore': False}"
      ]
     },
     "execution_count": 124,
     "metadata": {},
     "output_type": "execute_result"
    }
   ],
   "source": [
    "# Testing when the l2 is longer than l1. \n",
    "build_map(['Cuba', 'United States', 'Singapore'], [True, True, False, True])"
   ]
  },
  {
   "cell_type": "code",
   "execution_count": 125,
   "metadata": {},
   "outputs": [
    {
     "data": {
      "text/plain": [
       "{'Cuba': None, 'United States': None, 'Singapore': None}"
      ]
     },
     "execution_count": 125,
     "metadata": {},
     "output_type": "execute_result"
    }
   ],
   "source": [
    "# Testing when l2 is empty and l1 is not. \n",
    "build_map(['Cuba', 'United States', 'Singapore'], [])"
   ]
  },
  {
   "cell_type": "code",
   "execution_count": 126,
   "metadata": {},
   "outputs": [
    {
     "data": {
      "text/plain": [
       "{}"
      ]
     },
     "execution_count": 126,
     "metadata": {},
     "output_type": "execute_result"
    }
   ],
   "source": [
    "# Testing when l1 is empty and l2 is not.\n",
    "build_map([], ['we', 'me', 'he', 'they'])"
   ]
  },
  {
   "cell_type": "markdown",
   "metadata": {
    "id": "A7OUYdlEpWBx"
   },
   "source": [
    "#### Question 4 [20 marks]: \n",
    "Write a Python function `count_num_and(fname)` which counts the number of times the substring \"and\" appears in the text file, ignoring case. Download the given `train.csv` file and test the function on the file `train.csv`. Your function should handle the case when the input file doesn't exist. \n",
    "\n",
    "Note: \n",
    "1. \"And\", \"and\", \"aNd\", etc should all be counted. \n",
    "2. Empty file should be handled properly."
   ]
  },
  {
   "cell_type": "code",
   "execution_count": 56,
   "metadata": {
    "collapsed": true,
    "id": "6cTkkF24pWBx",
    "jupyter": {
     "outputs_hidden": true
    }
   },
   "outputs": [],
   "source": [
    "# Functio that counts the number of times the substring 'and' occurs in the text file ignoring case.\n",
    "def count_num_and(fname):\n",
    "    \"\"\"\n",
    "    Count the number of times the substring 'and' appears (ignoring case)\n",
    "    Input:\n",
    "        fname: the path/name to a text file. Your code should take care of the case\n",
    "        if the file doesn't exist.\n",
    "    Output:\n",
    "        the number of times the substring 'and' occurs.\n",
    "    \"\"\"\n",
    "    # Try to open the file, error if it doesn't exist.\n",
    "    try:\n",
    "        with open(fname, 'r') as text: # Opening the file in read mode.\n",
    "            contents = text.read() # Reads the contents of the file.\n",
    "            and_count = contents.lower().count('and') # varialbe that counts the number of times the substring 'and' occurs in the text file ignoring case.\n",
    "            text.close() # closing the file.\n",
    "    except:\n",
    "        print(str(fname) + \" File Not Found. Must access file in cwd. \") # Error message if file doesn't exist.\n",
    "        return 0\n",
    "\n",
    "    return and_count # return the number of times the substring 'and' occurs in the text file ignoring case.\n",
    "\n",
    "\n"
   ]
  },
  {
   "cell_type": "code",
   "execution_count": 91,
   "metadata": {
    "collapsed": false,
    "pycharm": {
     "name": "#%%\n"
    }
   },
   "outputs": [
    {
     "data": {
      "text/plain": [
       "0"
      ]
     },
     "execution_count": 91,
     "metadata": {},
     "output_type": "execute_result"
    }
   ],
   "source": [
    "# Testing file that exists but does contain the substring 'and'.\n",
    "count_num_and('ages.txt')"
   ]
  },
  {
   "cell_type": "code",
   "execution_count": 92,
   "metadata": {},
   "outputs": [
    {
     "name": "stdout",
     "output_type": "stream",
     "text": [
      "test.txt File Not Found. Must access file in cwd. \n"
     ]
    },
    {
     "data": {
      "text/plain": [
       "0"
      ]
     },
     "execution_count": 92,
     "metadata": {},
     "output_type": "execute_result"
    }
   ],
   "source": [
    "# Testing file that DNE (file doesn't exist).\n",
    "count_num_and('test.txt')"
   ]
  },
  {
   "cell_type": "code",
   "execution_count": 51,
   "metadata": {},
   "outputs": [
    {
     "data": {
      "text/plain": [
       "75"
      ]
     },
     "execution_count": 51,
     "metadata": {},
     "output_type": "execute_result"
    }
   ],
   "source": [
    "count_num_and('train.csv')"
   ]
  },
  {
   "cell_type": "code",
   "execution_count": 57,
   "metadata": {},
   "outputs": [
    {
     "name": "stdout",
     "output_type": "stream",
     "text": [
      "5 File Not Found. Must access file in cwd. \n"
     ]
    },
    {
     "data": {
      "text/plain": [
       "0"
      ]
     },
     "execution_count": 57,
     "metadata": {},
     "output_type": "execute_result"
    }
   ],
   "source": [
    "# Testing integer Input\n",
    "count_num_and(5)"
   ]
  },
  {
   "cell_type": "code",
   "execution_count": 58,
   "metadata": {},
   "outputs": [
    {
     "name": "stdout",
     "output_type": "stream",
     "text": [
      "hello File Not Found. Must access file in cwd. \n"
     ]
    },
    {
     "data": {
      "text/plain": [
       "0"
      ]
     },
     "execution_count": 58,
     "metadata": {},
     "output_type": "execute_result"
    }
   ],
   "source": [
    "# Testing string input\n",
    "count_num_and(\"hello\")"
   ]
  },
  {
   "cell_type": "code",
   "execution_count": 59,
   "metadata": {},
   "outputs": [
    {
     "name": "stdout",
     "output_type": "stream",
     "text": [
      "['hello', 'world'] File Not Found. Must access file in cwd. \n"
     ]
    },
    {
     "data": {
      "text/plain": [
       "0"
      ]
     },
     "execution_count": 59,
     "metadata": {},
     "output_type": "execute_result"
    }
   ],
   "source": [
    "# Testing object input\n",
    "count_num_and([\"hello\", \"world\"])"
   ]
  },
  {
   "cell_type": "markdown",
   "metadata": {
    "id": "PnXpB8eXpWBy"
   },
   "source": [
    "\n",
    "#### Question 5 [20 marks]:\n",
    "Given a list $c=[c_0, c_1, ..c_n]$ containing the coefficients of the polynomial $y=c_0+c_1x+c_2x^2+...+c_nx^n$. Write a Python function `poly_value(x, c)` to calculate the value of the polynomial for a given value $x$.\n",
    "\n",
    "For example, the list `c=[0.2, 0.4,0.3]` contains the coefficients of the following polynomial: $y = c_0 + c_1 + c_2x^2$. Given $x=5$, the functin `poly_value(x, c)` returns 9.7.\n",
    "\n",
    "Hint: The built-in function `enumerate` takes a sequence (e.g. a list) and generates a new sequence of the same length. Each element of the new sequence is a pair composed of the index (0, 1, 2,…) and the value from the original sequence.\n",
    "\n",
    "You can write a loop to use `enumerate(c)` to compuate `y`.\n",
    "\n",
    "Note: If the input coefficient list is empty, the function can't simply return a zero. It should notify the user about it. "
   ]
  },
  {
   "cell_type": "code",
   "execution_count": 88,
   "metadata": {
    "collapsed": true,
    "id": "tTS3RcQopWBz",
    "jupyter": {
     "outputs_hidden": true
    }
   },
   "outputs": [],
   "source": [
    "# Compute the polynomial p(x) = a0 + a1*x + a2*x^2 + ... + an*x^n.\n",
    "def poly_value(x, c):\n",
    "    \"\"\"\n",
    "    This function compute the value of the polynomial y=c[0]+c[1]*x+c[2]*x**2+...\n",
    "    \n",
    "    Input:\n",
    "        x: a given value\n",
    "        c: a list of coefficients of a polynomial\n",
    "    Output:\n",
    "        val: the value of polynomial y=c[0]+c[1]*x+c[2]*x**2+...\n",
    "    \"\"\"\n",
    "    # Initializng polynomal value to 0.\n",
    "    y = 0\n",
    "\n",
    "    # Testing to see if the input is a number.\n",
    "    if isinstance(x, (int, float)):\n",
    "        pass\n",
    "    else:\n",
    "        print('Error: x must be a number')\n",
    "        return 0\n",
    "\n",
    "    # Testing to see if the input is a list or tuple.\n",
    "    if isinstance(c, (list, tuple)):\n",
    "        pass\n",
    "    else: \n",
    "        print('Error: c must be a list or tuple')\n",
    "        return 0\n",
    "    \n",
    "\n",
    "    # Iterating through each coefficient in list c.\n",
    "    for i in range(len(c)):\n",
    "        if isinstance(c[i], (int, float)): # Testing to see if the coefficient is a number.\n",
    "            y += c[i]*x**i # multiplying the coefficient by the value of x to the power of the index of the coefficient.\n",
    "        else:\n",
    "            print('Error: c must be a list of numbers') # Error message if the coefficient is not a number.\n",
    "            return 0\n",
    "\n",
    "    return y # return the value of the polynomial.\n",
    "\n"
   ]
  },
  {
   "cell_type": "code",
   "execution_count": 63,
   "metadata": {
    "collapsed": false,
    "pycharm": {
     "name": "#%%\n"
    }
   },
   "outputs": [
    {
     "data": {
      "text/plain": [
       "4"
      ]
     },
     "execution_count": 63,
     "metadata": {},
     "output_type": "execute_result"
    }
   ],
   "source": [
    "# Testing Correct input.\n",
    "poly_value(2, [2,1])"
   ]
  },
  {
   "cell_type": "code",
   "execution_count": 65,
   "metadata": {},
   "outputs": [
    {
     "name": "stdout",
     "output_type": "stream",
     "text": [
      "Error: x must be a number\n"
     ]
    },
    {
     "data": {
      "text/plain": [
       "0"
      ]
     },
     "execution_count": 65,
     "metadata": {},
     "output_type": "execute_result"
    }
   ],
   "source": [
    "# Testing object as x input.\n",
    "poly_value([4, 5], [2,1])"
   ]
  },
  {
   "cell_type": "code",
   "execution_count": 67,
   "metadata": {},
   "outputs": [
    {
     "name": "stdout",
     "output_type": "stream",
     "text": [
      "Error: x must be a number\n"
     ]
    },
    {
     "data": {
      "text/plain": [
       "0"
      ]
     },
     "execution_count": 67,
     "metadata": {},
     "output_type": "execute_result"
    }
   ],
   "source": [
    "# Testing str as x input.\n",
    "poly_value(\"hello\", [2,1])"
   ]
  },
  {
   "cell_type": "code",
   "execution_count": 89,
   "metadata": {},
   "outputs": [
    {
     "data": {
      "text/plain": [
       "4.5"
      ]
     },
     "execution_count": 89,
     "metadata": {},
     "output_type": "execute_result"
    }
   ],
   "source": [
    "# Testing float as x input.\n",
    "poly_value(2.5, [2,1])"
   ]
  },
  {
   "cell_type": "code",
   "execution_count": 69,
   "metadata": {},
   "outputs": [
    {
     "name": "stdout",
     "output_type": "stream",
     "text": [
      "Error: c must be a list of numbers\n"
     ]
    },
    {
     "data": {
      "text/plain": [
       "0"
      ]
     },
     "execution_count": 69,
     "metadata": {},
     "output_type": "execute_result"
    }
   ],
   "source": [
    "# Testing str as c input.\n",
    "poly_value(2, \"hello\")"
   ]
  },
  {
   "cell_type": "code",
   "execution_count": 76,
   "metadata": {},
   "outputs": [
    {
     "data": {
      "text/plain": [
       "6"
      ]
     },
     "execution_count": 76,
     "metadata": {},
     "output_type": "execute_result"
    }
   ],
   "source": [
    "# Testing tuple as c input.\n",
    "poly_value(2, (2,2))"
   ]
  },
  {
   "cell_type": "code",
   "execution_count": 85,
   "metadata": {},
   "outputs": [
    {
     "name": "stdout",
     "output_type": "stream",
     "text": [
      "Error: c must be a list or tuple\n"
     ]
    },
    {
     "data": {
      "text/plain": [
       "0"
      ]
     },
     "execution_count": 85,
     "metadata": {},
     "output_type": "execute_result"
    }
   ],
   "source": [
    "# Testing set as c input.\n",
    "poly_value(2, {2,2})"
   ]
  },
  {
   "cell_type": "code",
   "execution_count": 87,
   "metadata": {},
   "outputs": [
    {
     "data": {
      "text/plain": [
       "14"
      ]
     },
     "execution_count": 87,
     "metadata": {},
     "output_type": "execute_result"
    }
   ],
   "source": [
    "# Testing correctly formatted list as c input. \n",
    "poly_value(2, [2,2,2])"
   ]
  },
  {
   "cell_type": "code",
   "execution_count": 90,
   "metadata": {},
   "outputs": [
    {
     "name": "stdout",
     "output_type": "stream",
     "text": [
      "Error: c must be a list of numbers\n"
     ]
    },
    {
     "data": {
      "text/plain": [
       "0"
      ]
     },
     "execution_count": 90,
     "metadata": {},
     "output_type": "execute_result"
    }
   ],
   "source": [
    "# Testing list with str as c input.\n",
    "poly_value(2, [2,2,\"hello\"])"
   ]
  },
  {
   "cell_type": "markdown",
   "metadata": {
    "id": "YMR5fKRZpWBz"
   },
   "source": [
    "#### Question 6 [20 marks]:\n",
    "The given file `ages.txt` contains the ages of some passengers in a cruise ship. Write Python code to open the file and create a list of ages. Continue to write code to answer the following questions:\n",
    "1. What is the age of the youngest passenger?\n",
    "2. What is the age of the oldest passenger?\n",
    "3. What is the average age of all passengers?\n",
    "4. What is the median age such that there are equal numbers of passengers younger and older than the median age?\n",
    "5. Order the ages in ascending order. break the ages in ranges of 20. In which range were the largest number of passengers found?"
   ]
  },
  {
   "cell_type": "code",
   "execution_count": 140,
   "metadata": {},
   "outputs": [],
   "source": [
    "import numpy as np"
   ]
  },
  {
   "cell_type": "code",
   "execution_count": 141,
   "metadata": {
    "id": "ctvrXfMepWBz"
   },
   "outputs": [
    {
     "name": "stdout",
     "output_type": "stream",
     "text": [
      "1. Min of ages: 0.42\n",
      "2. Max of ages: 80.0\n",
      "3. Mean of ages: 29.699118\n",
      "4. Median of ages:28.0\n",
      "\n",
      "5.\n",
      "Which bin had the largest amount of ages: 1\n",
      "Which range of ages were in each bin: (array([164, 387, 137,  26], dtype=int64), array([ 0., 20., 40., 60., 80.]))\n",
      "The second bin at index 1 had the largest amount of ages, containing ages from 20 - 39.\n"
     ]
    }
   ],
   "source": [
    "\n",
    "# Write your code and answers here\n",
    "with open('ages.txt', 'r') as text:\n",
    "    contents = text.read() # read the contents of the text file.\n",
    "    ages = contents.split() # split the contents of the text file by spaces.\n",
    "    ages = np.array(ages, dtype=np.float32) # convert the contents of the text file to an array of integers.\n",
    "\n",
    "    # obtaing the min of the ages\n",
    "    print(\"1. Min of ages: \" + str(np.min(ages)))\n",
    "\n",
    "    # obtaining the max of the ages\n",
    "    print(\"2. Max of ages: \"+str(np.max(ages)))\n",
    "\n",
    "    # obtaining the mean of the ages\n",
    "    print(\"3. Mean of ages: \" + str(np.mean(ages)))\n",
    "\n",
    "    # obtaining the median of the ages\n",
    "    print(\"4. Median of ages:\" + str(np.median(ages)))\n",
    "\n",
    "    # Ordering ages in ascending ordering\n",
    "    sorted_ages = np.sort(ages)\n",
    "    # Breaking sorted ages in ranges of 20\n",
    "    bins = np.arange(0, np.max(ages) + 20, 20)\n",
    "\n",
    "    print(\"\\n5.\")\n",
    "\n",
    "    # Which bin had the largest amount of ages.\n",
    "    print(\"Which bin had the largest amount of ages: \" + str(np.argmax(np.histogram(sorted_ages, bins=bins)[0])))\n",
    "\n",
    "    # Which range of ages were in each bin.\n",
    "    print(\"Which range of ages were in each bin: \" + str(np.histogram(sorted_ages, bins=bins)))\n",
    "\n",
    "    # Answer to question 5. \n",
    "    print(\"The second bin at index 1 had the largest amount of ages, containing ages from 20 - 39.\")\n",
    "\n",
    "    text.close()\n",
    "\n",
    "\n"
   ]
  }
 ],
 "metadata": {
  "colab": {
   "collapsed_sections": [],
   "name": "INFO212-Assignment1.ipynb",
   "provenance": []
  },
  "kernelspec": {
   "display_name": "Python 3",
   "language": "python",
   "name": "python3"
  },
  "language_info": {
   "codemirror_mode": {
    "name": "ipython",
    "version": 3
   },
   "file_extension": ".py",
   "mimetype": "text/x-python",
   "name": "python",
   "nbconvert_exporter": "python",
   "pygments_lexer": "ipython3",
   "version": "3.8.8"
  }
 },
 "nbformat": 4,
 "nbformat_minor": 0
}
